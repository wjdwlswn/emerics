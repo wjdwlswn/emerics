{
 "cells": [
  {
   "cell_type": "markdown",
   "id": "120b3a2a",
   "metadata": {},
   "source": [
    "### Import Files"
   ]
  },
  {
   "cell_type": "code",
   "execution_count": 1,
   "id": "0a86f99d",
   "metadata": {},
   "outputs": [],
   "source": [
    "import requests\n",
    "import lxml.html\n",
    "import sqlite3 as sq3\n",
    "from pandas.io import sql\n",
    "import os\n",
    "import re\n",
    "import string\n",
    "import pandas as pd\n",
    "from tabulate import tabulate\n",
    "from selenium.webdriver import Chrome\n",
    "from selenium.webdriver.chrome.service import Service\n",
    "from selenium.webdriver.common.by import By\n",
    "from selenium.webdriver.common.keys import Keys\n",
    "from webdriver_manager.chrome import ChromeDriverManager\n",
    "import time\n",
    "import warnings\n",
    "warnings.simplefilter(action='ignore', category=FutureWarning)\n",
    "from selenium import webdriver\n",
    "from selenium.webdriver import ActionChains\n",
    "from selenium.webdriver.chrome.options import Options\n",
    "import pyperclip as pc"
   ]
  },
  {
   "cell_type": "markdown",
   "id": "1928fe1b",
   "metadata": {},
   "source": [
    "## get_urls()\n",
    "- gets the list of urls to detail pages"
   ]
  },
  {
   "cell_type": "code",
   "execution_count": 2,
   "id": "4ea0676a",
   "metadata": {},
   "outputs": [],
   "source": [
    "HTML_Africa_ME = 'https://www.emerics.org:446/issue.es?currentPage={}&pageCnt=50&search_area=2&mid=a10200000000&systemcode=05&search_region=&search_option=ALL&search_year=&search_month=&search_keyword='\n",
    "HTML_Russia_Asia = 'https://www.emerics.org:446/issue.es?currentPage={}&pageCnt=50&search_area=2&mid=a10200000000&systemcode=04&search_region=&'\\\n",
    "                    'search_option=ALL&search_year=&search_month=&search_keyword='\n",
    "HTML_Latin_America = 'https://www.emerics.org:446/issue.es?currentPage={}&pageCnt=50&search_area=2&mid=a10200000000&systemcode=06&search_region=&'\\\n",
    "                      'search_option=ALL&search_year=&search_month=&search_keyword='\n",
    "HTML_CE_Europe = 'https://www.emerics.org:446/issue.es?currentPage={}&pageCnt=50&search_area=2&mid=a10200000000&systemcode=07&search_region=&search_option=ALL&search_year=&search_month=&search_keyword='"
   ]
  },
  {
   "cell_type": "code",
   "execution_count": 3,
   "id": "4650d631",
   "metadata": {},
   "outputs": [],
   "source": [
    "def get_urls(html_link):\n",
    "    page = 1\n",
    "    url_list = []\n",
    "    max_page = 1\n",
    "    \n",
    "    #find the maximum number of pages\n",
    "    driver.get(html_link.format(page))\n",
    "    get_total_articles = driver.find_element('xpath','//span[@class=\"floatL count\"]').text\n",
    "    page1 = get_total_articles.split(' ')[1]\n",
    "    page2 = int(page1.split('개')[0])\n",
    "    if (page2%50 == 0):\n",
    "        max_page = int(page2/50)\n",
    "    else:\n",
    "        max_page = int(page2/50) + 1\n",
    "    \n",
    "    while(max_page >= page):\n",
    "        driver.get(html_link.format(page))\n",
    "        time.sleep(0.5)\n",
    "        \n",
    "        li = driver.find_elements('xpath','//*[@id=\"content_detail\"]/div[3]/ul/li')\n",
    "        \n",
    "        for each in li:\n",
    "            a = each.find_element('xpath','div[2]/p[1]/a')\n",
    "            url = a.get_attribute('href')\n",
    "            url_list.append(url)\n",
    "\n",
    "        if (len(url_list) >=0 & len(url_list)%50 == 0):\n",
    "            page += 1\n",
    "\n",
    "    return url_list"
   ]
  },
  {
   "cell_type": "markdown",
   "id": "8740a0fb",
   "metadata": {},
   "source": [
    "## Save URL list into a file"
   ]
  },
  {
   "cell_type": "code",
   "execution_count": 4,
   "id": "dfedbda1",
   "metadata": {},
   "outputs": [],
   "source": [
    "def saveURLs(url_list, file_name):\n",
    "    # open file in write mode\n",
    "    with open(file_name, 'w') as fp:\n",
    "        for url in url_list:\n",
    "            # write each item on a new line\n",
    "            fp.write(\"%s\\n\" % url)\n",
    "        print('URLs saved!')"
   ]
  },
  {
   "cell_type": "code",
   "execution_count": 5,
   "id": "0d8dbbf8",
   "metadata": {},
   "outputs": [],
   "source": [
    "def readURLs(file_name):\n",
    "    # empty list to read list from a file\n",
    "    urls = []\n",
    "    # open file and read the content in a list\n",
    "    with open(file_name, 'r') as fp:\n",
    "        for line in fp:\n",
    "            # remove linebreak from a current name\n",
    "            # linebreak is the last character of each line\n",
    "            x = line[:-1]\n",
    "\n",
    "            # add current item to the list\n",
    "            urls.append(x)\n",
    "    return(urls)"
   ]
  },
  {
   "cell_type": "markdown",
   "id": "0eca9239",
   "metadata": {},
   "source": [
    "## remove_punc()\n",
    "- removes punctuations from string"
   ]
  },
  {
   "cell_type": "code",
   "execution_count": 6,
   "id": "a031105b",
   "metadata": {},
   "outputs": [],
   "source": [
    "def remove_punc(data):\n",
    "\n",
    "    punc = '[!\"#$%&\\'()*+,-./:;<=>?[\\]^_`{|}~“”·「」△《》◦•◦ㆍ‘’○❍□☐■※✔️▷①②③④【】🎡👑🔒💣🛡️🔻🌌🔥🚢🔑👀…▶ㅇ『∙』·-“”▲I]'\n",
    "    new_string = re.sub(punc, '', data) # 특수문자 제거\n",
    "    new_string2 = re.sub('\\n', ' ', new_string) # newline 제거\n",
    "    new_string3 = re.sub('\\\\s+', ' ', new_string2) # multiple spaces 제거\n",
    "    return new_string3"
   ]
  },
  {
   "cell_type": "markdown",
   "id": "484c4634",
   "metadata": {},
   "source": [
    "## db_save()\n",
    "- saves data as db file"
   ]
  },
  {
   "cell_type": "code",
   "execution_count": 7,
   "id": "0e4a96d1",
   "metadata": {},
   "outputs": [],
   "source": [
    "def db_save(ARTICLE_LIST, db_name, table_name):\n",
    "    with sq3.connect(os.path.join('.',db_name)) as con: # sqlite DB 파일이 존재하지 않는 경우 파일생성\n",
    "        try:\n",
    "            ARTICLE_LIST.to_sql(name = table_name, con = con, index = False, if_exists='replace') \n",
    "            #if_exists : {'fail', 'replace', 'append'} default : fail\n",
    "        except Exception as e:\n",
    "            print(str(e))\n",
    "        print(len(ARTICLE_LIST), '건 저장완료..')"
   ]
  },
  {
   "cell_type": "markdown",
   "id": "60739235",
   "metadata": {},
   "source": [
    "## db_select()\n",
    "- read data from db file"
   ]
  },
  {
   "cell_type": "code",
   "execution_count": 8,
   "id": "d848778d",
   "metadata": {},
   "outputs": [],
   "source": [
    "def db_select(db_name, table_name):\n",
    "    with sq3.connect(db_name) as con: \n",
    "        try:\n",
    "            query = 'SELECT * FROM {}'.format(table_name)\n",
    "            df = pd.read_sql(query, con = con)\n",
    "        except Exception as e:\n",
    "            print(str(e)) \n",
    "        return df"
   ]
  },
  {
   "cell_type": "code",
   "execution_count": 9,
   "id": "dcbd29b4",
   "metadata": {},
   "outputs": [],
   "source": [
    "def db_delete(db_name, table_name):\n",
    "    with sq3.connect(db_name) as con: \n",
    "        try:\n",
    "            cur = con.cursor()\n",
    "            sql = 'DELETE FROM {}'.format(table_name)\n",
    "            cur.execute(sql)\n",
    "        except Exception as e:\n",
    "            print(str(e))"
   ]
  },
  {
   "cell_type": "markdown",
   "id": "5c1f7aba",
   "metadata": {},
   "source": [
    "## get_info()\n",
    "- returns detailed information on the article pages as list"
   ]
  },
  {
   "cell_type": "code",
   "execution_count": 10,
   "id": "caee9d56",
   "metadata": {},
   "outputs": [],
   "source": [
    "def get_info(url):\n",
    "    details = []\n",
    "    articles = []\n",
    "    articleString = \"\"\n",
    "    \n",
    "    driver.get(url)\n",
    "    title = driver.find_element('xpath','//*[@id=\"content_detail\"]/div[1]/div/div/h2').text\n",
    "    country = driver.find_element('xpath','//*[@id=\"content_detail\"]/div[1]/div/div/p[2]/span[1]').text\n",
    "    date = driver.find_element('xpath','//*[@id=\"content_detail\"]/div[1]/div/div/p[2]/span[5]').text\n",
    "    article = driver.find_element('xpath','//*[@class=\"view-content\"]').text\n",
    "    #p = article.find_elements('xpath','text')\n",
    "    \n",
    "    #for each in p:\n",
    "    #    articles.append(each)\n",
    "    #articleString = ' '.join(articles)\n",
    "    \n",
    "    driver.implicitly_wait(5)\n",
    "    \n",
    "    #words = remove_punc(articleString)\n",
    "    words = remove_punc(article)\n",
    "    details.append(title)\n",
    "    details.append(country)\n",
    "    details.append(date)\n",
    "    details.append(words)\n",
    "    \n",
    "    return details"
   ]
  },
  {
   "cell_type": "markdown",
   "id": "71dd4079",
   "metadata": {},
   "source": [
    "## db_save_as_csv()\n",
    "- saves dataframe as csv"
   ]
  },
  {
   "cell_type": "code",
   "execution_count": 11,
   "id": "981d9e6f",
   "metadata": {},
   "outputs": [],
   "source": [
    "def db_save_as_csv(data):\n",
    "    data.to_csv(\"신흥지역정보_종합지식포탈.csv\", index=False, encoding='utf-8')"
   ]
  },
  {
   "cell_type": "markdown",
   "id": "3beef7df",
   "metadata": {},
   "source": [
    "### ---------------------------------------------------------------------------------------------------------------------\n",
    "# Main\n",
    "This is the main part which uses functions to read articles and saves the data as csv file\n",
    "### ---------------------------------------------------------------------------------------------------------------------"
   ]
  },
  {
   "cell_type": "code",
   "execution_count": 12,
   "id": "b822b364",
   "metadata": {
    "scrolled": false
   },
   "outputs": [
    {
     "name": "stderr",
     "output_type": "stream",
     "text": [
      "C:\\Users\\user\\AppData\\Local\\Temp\\ipykernel_16216\\1648330713.py:8: DeprecationWarning: executable_path has been deprecated, please pass in a Service object\n",
      "  driver = webdriver.Chrome('C:/Users/user/.wdm/drivers/chromedriver/win32/105.0.5195/chromedriver.exe', chrome_options = options) #드라이버경로 지정\n",
      "C:\\Users\\user\\AppData\\Local\\Temp\\ipykernel_16216\\1648330713.py:8: DeprecationWarning: use options instead of chrome_options\n",
      "  driver = webdriver.Chrome('C:/Users/user/.wdm/drivers/chromedriver/win32/105.0.5195/chromedriver.exe', chrome_options = options) #드라이버경로 지정\n"
     ]
    },
    {
     "name": "stdout",
     "output_type": "stream",
     "text": [
      "URLs saved!\n",
      "366 건 저장완료..\n"
     ]
    }
   ],
   "source": [
    "options = webdriver.ChromeOptions() \n",
    "#options.add_argument(\"--start-maximized\");  # Chrome 브라우저 최대화 설정\n",
    "#options.add_argument('--headless')  # headless 모드\n",
    "options.add_argument('--disable-gpu')  # 그래픽 가속 해제 (오류 방지)\n",
    "#options.add_argument('--mute-audio')  # 음소거모드 적용\n",
    "\n",
    "#driver = webdriver.Chrome('service = Service(ChromeDriverManager().install())', options = options)\n",
    "driver = webdriver.Chrome('C:/Users/user/.wdm/drivers/chromedriver/win32/105.0.5195/chromedriver.exe', chrome_options = options) #드라이버경로 지정\n",
    "\n",
    "## -----------------------------------------------------------------------\n",
    "# urls for Africa\n",
    "#urls = get_urls(HTML_Africa_ME)\n",
    "#URL_FILE = 'url_list_africa.txt'\n",
    "#TABLE_NAME = 'emerics_Africa'\n",
    "## -----------------------------------------------------------------------\n",
    "# urls for Russia & Asia\n",
    "#urls = get_urls(HTML_Russia_Asia)\n",
    "#URL_FILE = 'url_list_russia_asia.txt'\n",
    "#TABLE_NAME = 'emerics_Russia_Asia'\n",
    "## -----------------------------------------------------------------------\n",
    "# urls for Latin America\n",
    "#urls = get_urls(HTML_Latin_America)\n",
    "#URL_FILE = 'url_list_latin_america.txt'\n",
    "#TABLE_NAME = 'emerics_Latin_America'\n",
    "## -----------------------------------------------------------------------\n",
    "# urls for Central East Europe\n",
    "#urls = get_urls(HTML_CE_Europe)\n",
    "#URL_FILE = 'url_list_ce_europe.txt'\n",
    "#TABLE_NAME = 'emerics_CE_Europe'\n",
    "\n",
    "saveURLs(urls, URL_FILE)          # save urls to txt file\n",
    "url_list = readURLs(URL_FILE)     # read urls from txt file\n",
    "\n",
    "df_list = []\n",
    "\n",
    "for url in url_list:\n",
    "    details = get_info(url)\n",
    "    \n",
    "    df = pd.DataFrame([{\n",
    "        \"제목\": details[0],\n",
    "        \"국가\": details[1],\n",
    "        \"날짜\": details[2],\n",
    "        \"본문\": details[3]\n",
    "    }])\n",
    "    \n",
    "    df_list.append(df)\n",
    "    driver.implicitly_wait(4)\n",
    "    time.sleep(1)\n",
    "\n",
    "ARTICLE_LIST = pd.concat(df_list)\n",
    "\n",
    "db_save(ARTICLE_LIST, '신흥지역정보_종합지식포탈.db', TABLE_NAME)\n",
    "db_save_as_csv(ARTICLE_LIST)\n",
    "\n",
    "driver.close()\n",
    "driver.quit()"
   ]
  },
  {
   "cell_type": "code",
   "execution_count": 13,
   "id": "b6e732d8",
   "metadata": {
    "scrolled": true
   },
   "outputs": [
    {
     "data": {
      "text/html": [
       "<div>\n",
       "<style scoped>\n",
       "    .dataframe tbody tr th:only-of-type {\n",
       "        vertical-align: middle;\n",
       "    }\n",
       "\n",
       "    .dataframe tbody tr th {\n",
       "        vertical-align: top;\n",
       "    }\n",
       "\n",
       "    .dataframe thead th {\n",
       "        text-align: right;\n",
       "    }\n",
       "</style>\n",
       "<table border=\"1\" class=\"dataframe\">\n",
       "  <thead>\n",
       "    <tr style=\"text-align: right;\">\n",
       "      <th></th>\n",
       "      <th>제목</th>\n",
       "      <th>국가</th>\n",
       "      <th>날짜</th>\n",
       "      <th>본문</th>\n",
       "    </tr>\n",
       "  </thead>\n",
       "  <tbody>\n",
       "    <tr>\n",
       "      <th>0</th>\n",
       "      <td>[이슈트렌드] 헝가리, 우크라이나 전쟁 여파에도 2/4분기 GDP 6.5% 성장</td>\n",
       "      <td>헝가리</td>\n",
       "      <td>2022/09/16</td>\n",
       "      <td>헝가리 우크라이나 전쟁 여파 속 높은 GDP 성장률 기록 헝가리는 2022년 14...</td>\n",
       "    </tr>\n",
       "    <tr>\n",
       "      <th>1</th>\n",
       "      <td>[이슈트렌드] 슬로바키아, 연립 정부 끝내 분열</td>\n",
       "      <td>슬로바키아</td>\n",
       "      <td>2022/09/16</td>\n",
       "      <td>슬로바키아 4당 연립 정부 갈등 끝에 한 정당의 탈퇴로 분열 슬로바키아 4당 연립...</td>\n",
       "    </tr>\n",
       "    <tr>\n",
       "      <th>2</th>\n",
       "      <td>[이슈트렌드] 체코, 인플레이션 대응을 위한 가계 지원 패키지 승인</td>\n",
       "      <td>체코</td>\n",
       "      <td>2022/09/07</td>\n",
       "      <td>체코 정부는 에너지 위기와 인플레이션 대응을 위해 가계 지원 패키지를 승인함 체코...</td>\n",
       "    </tr>\n",
       "    <tr>\n",
       "      <th>3</th>\n",
       "      <td>[이슈트렌드] 튀르키예, 내수와 수출 호조에 힘입어 경제 성장</td>\n",
       "      <td>튀르키예</td>\n",
       "      <td>2022/09/07</td>\n",
       "      <td>튀르키예 18월 수출액 증가와 실업률 하락으로 경제 활성화적자 규모도 증가 튀르키...</td>\n",
       "    </tr>\n",
       "    <tr>\n",
       "      <th>4</th>\n",
       "      <td>[이슈트렌드] 폴란드, 기금 지급 거부와 우크라이나 전쟁을 계기로 EU에 대한 비난...</td>\n",
       "      <td>폴란드</td>\n",
       "      <td>2022/09/02</td>\n",
       "      <td>EU는 폴란드의 사법 제도를 문제로 기금 지급을 거부했고 폴란드는 강경 대응을 예...</td>\n",
       "    </tr>\n",
       "    <tr>\n",
       "      <th>...</th>\n",
       "      <td>...</td>\n",
       "      <td>...</td>\n",
       "      <td>...</td>\n",
       "      <td>...</td>\n",
       "    </tr>\n",
       "    <tr>\n",
       "      <th>361</th>\n",
       "      <td>밀로쉬 제만 대통령 재선 성공</td>\n",
       "      <td>체코</td>\n",
       "      <td>2018/02/12</td>\n",
       "      <td>체코 대선 결선투표 결과 밀로쉬 제만Milo Zeman 대통령이 승리하였음 제만 ...</td>\n",
       "    </tr>\n",
       "    <tr>\n",
       "      <th>362</th>\n",
       "      <td>유럽의 암호화폐 정책대응 상황</td>\n",
       "      <td>중동부유럽 일반</td>\n",
       "      <td>2018/02/02</td>\n",
       "      <td>유럽의 암호화폐 시장은 다른 주요 지역 대비 저조한 편임 ➀ 현행 암호화폐가 아직...</td>\n",
       "    </tr>\n",
       "    <tr>\n",
       "      <th>363</th>\n",
       "      <td>기후변화와 북극지역 관련 쟁점</td>\n",
       "      <td>인도ㆍ남아시아 일반 / 동남아시아 일반 / 러시아ㆍ유라시아 일반 / 아프리카ㆍ 중동...</td>\n",
       "      <td>2012/10/23</td>\n",
       "      <td>미국국립빙설자료센터NSDC의 9월 16일 발표에 따르면 북극해를 덮고 있는 얼음 ...</td>\n",
       "    </tr>\n",
       "    <tr>\n",
       "      <th>364</th>\n",
       "      <td>바이오연료(biofuel)의 상업성과 지속가능성</td>\n",
       "      <td>인도ㆍ남아시아 일반 / 동남아시아 일반 / 러시아ㆍ유라시아 일반 / 아프리카ㆍ 중동...</td>\n",
       "      <td>2012/10/09</td>\n",
       "      <td>각국 정부는 화석연료에 비해 탄소 배출이 적고 안정적인 에너지 확보가 가능한 바이...</td>\n",
       "    </tr>\n",
       "    <tr>\n",
       "      <th>365</th>\n",
       "      <td>세계 태양광 산업의 현황과 전망</td>\n",
       "      <td>인도ㆍ남아시아 일반 / 동남아시아 일반 / 러시아ㆍ유라시아 일반 / 아프리카ㆍ 중동...</td>\n",
       "      <td>2012/08/14</td>\n",
       "      <td>7월 24일 독일의 Solar World를 비롯한 유럽 태양광 기업 모임인 Pro...</td>\n",
       "    </tr>\n",
       "  </tbody>\n",
       "</table>\n",
       "<p>366 rows × 4 columns</p>\n",
       "</div>"
      ],
      "text/plain": [
       "                                                    제목  \\\n",
       "0         [이슈트렌드] 헝가리, 우크라이나 전쟁 여파에도 2/4분기 GDP 6.5% 성장   \n",
       "1                           [이슈트렌드] 슬로바키아, 연립 정부 끝내 분열   \n",
       "2                [이슈트렌드] 체코, 인플레이션 대응을 위한 가계 지원 패키지 승인   \n",
       "3                   [이슈트렌드] 튀르키예, 내수와 수출 호조에 힘입어 경제 성장   \n",
       "4    [이슈트렌드] 폴란드, 기금 지급 거부와 우크라이나 전쟁을 계기로 EU에 대한 비난...   \n",
       "..                                                 ...   \n",
       "361                                   밀로쉬 제만 대통령 재선 성공   \n",
       "362                                   유럽의 암호화폐 정책대응 상황   \n",
       "363                                   기후변화와 북극지역 관련 쟁점   \n",
       "364                         바이오연료(biofuel)의 상업성과 지속가능성   \n",
       "365                                  세계 태양광 산업의 현황과 전망   \n",
       "\n",
       "                                                    국가          날짜  \\\n",
       "0                                                  헝가리  2022/09/16   \n",
       "1                                                슬로바키아  2022/09/16   \n",
       "2                                                   체코  2022/09/07   \n",
       "3                                                 튀르키예  2022/09/07   \n",
       "4                                                  폴란드  2022/09/02   \n",
       "..                                                 ...         ...   \n",
       "361                                                 체코  2018/02/12   \n",
       "362                                           중동부유럽 일반  2018/02/02   \n",
       "363  인도ㆍ남아시아 일반 / 동남아시아 일반 / 러시아ㆍ유라시아 일반 / 아프리카ㆍ 중동...  2012/10/23   \n",
       "364  인도ㆍ남아시아 일반 / 동남아시아 일반 / 러시아ㆍ유라시아 일반 / 아프리카ㆍ 중동...  2012/10/09   \n",
       "365  인도ㆍ남아시아 일반 / 동남아시아 일반 / 러시아ㆍ유라시아 일반 / 아프리카ㆍ 중동...  2012/08/14   \n",
       "\n",
       "                                                    본문  \n",
       "0     헝가리 우크라이나 전쟁 여파 속 높은 GDP 성장률 기록 헝가리는 2022년 14...  \n",
       "1     슬로바키아 4당 연립 정부 갈등 끝에 한 정당의 탈퇴로 분열 슬로바키아 4당 연립...  \n",
       "2     체코 정부는 에너지 위기와 인플레이션 대응을 위해 가계 지원 패키지를 승인함 체코...  \n",
       "3     튀르키예 18월 수출액 증가와 실업률 하락으로 경제 활성화적자 규모도 증가 튀르키...  \n",
       "4     EU는 폴란드의 사법 제도를 문제로 기금 지급을 거부했고 폴란드는 강경 대응을 예...  \n",
       "..                                                 ...  \n",
       "361   체코 대선 결선투표 결과 밀로쉬 제만Milo Zeman 대통령이 승리하였음 제만 ...  \n",
       "362   유럽의 암호화폐 시장은 다른 주요 지역 대비 저조한 편임 ➀ 현행 암호화폐가 아직...  \n",
       "363   미국국립빙설자료센터NSDC의 9월 16일 발표에 따르면 북극해를 덮고 있는 얼음 ...  \n",
       "364   각국 정부는 화석연료에 비해 탄소 배출이 적고 안정적인 에너지 확보가 가능한 바이...  \n",
       "365   7월 24일 독일의 Solar World를 비롯한 유럽 태양광 기업 모임인 Pro...  \n",
       "\n",
       "[366 rows x 4 columns]"
      ]
     },
     "execution_count": 13,
     "metadata": {},
     "output_type": "execute_result"
    }
   ],
   "source": [
    "df1 = db_select('신흥지역정보_종합지식포탈.db', TABLE_NAME)\n",
    "df1"
   ]
  },
  {
   "cell_type": "code",
   "execution_count": 14,
   "id": "e7e4c3c1",
   "metadata": {},
   "outputs": [
    {
     "data": {
      "text/plain": [
       "제목    False\n",
       "국가    False\n",
       "날짜    False\n",
       "본문    False\n",
       "dtype: bool"
      ]
     },
     "execution_count": 14,
     "metadata": {},
     "output_type": "execute_result"
    }
   ],
   "source": [
    "df1.isnull().any()"
   ]
  }
 ],
 "metadata": {
  "kernelspec": {
   "display_name": "Python 3 (ipykernel)",
   "language": "python",
   "name": "python3"
  },
  "language_info": {
   "codemirror_mode": {
    "name": "ipython",
    "version": 3
   },
   "file_extension": ".py",
   "mimetype": "text/x-python",
   "name": "python",
   "nbconvert_exporter": "python",
   "pygments_lexer": "ipython3",
   "version": "3.9.12"
  }
 },
 "nbformat": 4,
 "nbformat_minor": 5
}
