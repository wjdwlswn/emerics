{
 "cells": [
  {
   "cell_type": "markdown",
   "id": "e88604e2",
   "metadata": {},
   "source": [
    "# Selenium for 법무법인_태평양_법률자료"
   ]
  },
  {
   "cell_type": "markdown",
   "id": "120b3a2a",
   "metadata": {},
   "source": [
    "### Import Files"
   ]
  },
  {
   "cell_type": "code",
   "execution_count": 1,
   "id": "0a86f99d",
   "metadata": {},
   "outputs": [],
   "source": [
    "import requests\n",
    "import lxml.html\n",
    "import sqlite3 as sq3\n",
    "from pandas.io import sql\n",
    "import os\n",
    "import re\n",
    "import string\n",
    "import pandas as pd\n",
    "from tabulate import tabulate\n",
    "from selenium.webdriver import Chrome\n",
    "import time\n",
    "import warnings\n",
    "warnings.simplefilter(action='ignore', category=FutureWarning)\n",
    "from selenium import webdriver\n",
    "from selenium.webdriver import ActionChains\n",
    "import csv\n",
    "import numpy as np"
   ]
  },
  {
   "cell_type": "markdown",
   "id": "037dd106",
   "metadata": {},
   "source": [
    "## db methods\n",
    "- reads and writes data from and to db file"
   ]
  },
  {
   "cell_type": "code",
   "execution_count": 2,
   "id": "ed461de1",
   "metadata": {},
   "outputs": [],
   "source": [
    "def db_save(ARTICLE_LIST, db_name, table_name):\n",
    "    with sq3.connect(os.path.join('.',db_name)) as con: # sqlite DB 파일이 존재하지 않는 경우 파일생성\n",
    "        try:\n",
    "            ARTICLE_LIST.to_sql(name = table_name, con = con, index = False, if_exists='replace') \n",
    "            #if_exists : {'fail', 'replace', 'append'} default : fail\n",
    "        except Exception as e:\n",
    "            print(str(e))\n",
    "        print(len(ARTICLE_LIST), '건 저장완료..')"
   ]
  },
  {
   "cell_type": "code",
   "execution_count": 3,
   "id": "3b1886c8",
   "metadata": {},
   "outputs": [],
   "source": [
    "def db_select(db_name, table_name):\n",
    "    with sq3.connect(db_name) as con: \n",
    "        try:\n",
    "            query = 'SELECT * FROM {}'.format(table_name)\n",
    "            df = pd.read_sql(query, con = con)\n",
    "        except Exception as e:\n",
    "            print(str(e)) \n",
    "        return df"
   ]
  },
  {
   "cell_type": "markdown",
   "id": "198c7780",
   "metadata": {},
   "source": [
    "## reads the saved file and displays the result as a dataframe"
   ]
  },
  {
   "cell_type": "code",
   "execution_count": 4,
   "id": "f3c54e94",
   "metadata": {},
   "outputs": [],
   "source": [
    "TABLE_NAME = ['emerics_Africa','emerics_Russia_Asia','emerics_Latin_America','emerics_CE_Europe']\n",
    "DATABASE = '신흥지역정보_종합지식포탈.db'"
   ]
  },
  {
   "cell_type": "code",
   "execution_count": 5,
   "id": "72123ca4",
   "metadata": {
    "scrolled": false
   },
   "outputs": [],
   "source": [
    "document1 = db_select(DATABASE, TABLE_NAME[0])\n",
    "document2 = db_select(DATABASE, TABLE_NAME[1])\n",
    "document3 = db_select(DATABASE, TABLE_NAME[2])\n",
    "document4 = db_select(DATABASE, TABLE_NAME[3])"
   ]
  },
  {
   "cell_type": "code",
   "execution_count": 6,
   "id": "8455f291",
   "metadata": {},
   "outputs": [
    {
     "name": "stdout",
     "output_type": "stream",
     "text": [
      "check null values: \n",
      "제목    False\n",
      "국가    False\n",
      "날짜    False\n",
      "본문    False\n",
      "dtype: bool\n",
      "제목    False\n",
      "국가    False\n",
      "날짜    False\n",
      "본문    False\n",
      "dtype: bool\n",
      "제목    False\n",
      "국가    False\n",
      "날짜    False\n",
      "본문    False\n",
      "dtype: bool\n",
      "제목    False\n",
      "국가    False\n",
      "날짜    False\n",
      "본문    False\n",
      "dtype: bool\n",
      "check data length:\n",
      "the length of document1 is:  489\n",
      "the length of document2 is:  397\n",
      "the length of document3 is:  369\n",
      "the length of document4 is:  366\n",
      "The total number of articles :  1621\n"
     ]
    }
   ],
   "source": [
    "# check if there are any null values in the dataframe\n",
    "print('check null values: ')\n",
    "print(document1.isna().any())\n",
    "print(document2.isna().any())\n",
    "print(document3.isna().any())\n",
    "print(document4.isna().any())\n",
    "\n",
    "# check the length of each dataframe\n",
    "print('check data length:')\n",
    "print('the length of document1 is: ',len(document1))\n",
    "print('the length of document2 is: ',len(document2))\n",
    "print('the length of document3 is: ',len(document3))\n",
    "print('the length of document4 is: ',len(document4))\n",
    "\n",
    "total_num_articles = len(document1) + len(document2) + len(document3) + len(document4)\n",
    "print('The total number of articles : ',total_num_articles)"
   ]
  },
  {
   "cell_type": "code",
   "execution_count": 7,
   "id": "862f72ac",
   "metadata": {},
   "outputs": [
    {
     "data": {
      "text/html": [
       "<div>\n",
       "<style scoped>\n",
       "    .dataframe tbody tr th:only-of-type {\n",
       "        vertical-align: middle;\n",
       "    }\n",
       "\n",
       "    .dataframe tbody tr th {\n",
       "        vertical-align: top;\n",
       "    }\n",
       "\n",
       "    .dataframe thead th {\n",
       "        text-align: right;\n",
       "    }\n",
       "</style>\n",
       "<table border=\"1\" class=\"dataframe\">\n",
       "  <thead>\n",
       "    <tr style=\"text-align: right;\">\n",
       "      <th></th>\n",
       "      <th>제목</th>\n",
       "      <th>국가</th>\n",
       "      <th>날짜</th>\n",
       "      <th>본문</th>\n",
       "      <th>continent code</th>\n",
       "    </tr>\n",
       "  </thead>\n",
       "  <tbody>\n",
       "    <tr>\n",
       "      <th>0</th>\n",
       "      <td>[이슈트렌드] 디폴트 선언했던 잠비아, IMF 구제금융 확보 성공</td>\n",
       "      <td>잠비아</td>\n",
       "      <td>2022/09/16</td>\n",
       "      <td>국제통화기금MF 잠비아에 구제금융 지원 승인 코로나19 팬데믹 이후 처음으로 디폴...</td>\n",
       "      <td>아프리카/중동</td>\n",
       "    </tr>\n",
       "    <tr>\n",
       "      <th>1</th>\n",
       "      <td>[이슈트렌드] 미국·유럽과 이란 사이 좁혀지지 않는 입장 차이로 난항에 빠진 핵 협상</td>\n",
       "      <td>이란</td>\n",
       "      <td>2022/09/16</td>\n",
       "      <td>미국유럽과 이란 핵 협상 교착 상태에 대해 상대측 비판하며 대립 심화 미국과 유럽...</td>\n",
       "      <td>아프리카/중동</td>\n",
       "    </tr>\n",
       "    <tr>\n",
       "      <th>2</th>\n",
       "      <td>[이슈트렌드] 장기화되는 리비아 정치 위기, 유가 인상 자극 우려</td>\n",
       "      <td>리비아</td>\n",
       "      <td>2022/09/07</td>\n",
       "      <td>리비아 정치 위기 중앙정부와 의회의 첨예한 입장 차이로 장기화 리비아 중앙정부와 ...</td>\n",
       "      <td>아프리카/중동</td>\n",
       "    </tr>\n",
       "    <tr>\n",
       "      <th>3</th>\n",
       "      <td>[이슈트렌드] 이라크, 반외세 지도자의 은퇴 선언 이후 정치적 혼란 격화</td>\n",
       "      <td>아프리카ㆍ 중동 기타</td>\n",
       "      <td>2022/09/07</td>\n",
       "      <td>의회 해산 요구하던 이라크 반외세 지도자 정계 은퇴 선언 이라크 시아파 반외세 지...</td>\n",
       "      <td>아프리카/중동</td>\n",
       "    </tr>\n",
       "    <tr>\n",
       "      <th>4</th>\n",
       "      <td>[이슈트렌드] 남아프리카공화국, 인플레이션에 따른 경제난과 사회적 위기 심화</td>\n",
       "      <td>남아프리카공화국</td>\n",
       "      <td>2022/09/02</td>\n",
       "      <td>남아프리카공화국 최악의 인플레이션 직면 7월 남아공 인플레이션 13년 만에 최고치...</td>\n",
       "      <td>아프리카/중동</td>\n",
       "    </tr>\n",
       "    <tr>\n",
       "      <th>...</th>\n",
       "      <td>...</td>\n",
       "      <td>...</td>\n",
       "      <td>...</td>\n",
       "      <td>...</td>\n",
       "      <td>...</td>\n",
       "    </tr>\n",
       "    <tr>\n",
       "      <th>1616</th>\n",
       "      <td>밀로쉬 제만 대통령 재선 성공</td>\n",
       "      <td>체코</td>\n",
       "      <td>2018/02/12</td>\n",
       "      <td>체코 대선 결선투표 결과 밀로쉬 제만Milo Zeman 대통령이 승리하였음 제만 ...</td>\n",
       "      <td>중동부유럽</td>\n",
       "    </tr>\n",
       "    <tr>\n",
       "      <th>1617</th>\n",
       "      <td>유럽의 암호화폐 정책대응 상황</td>\n",
       "      <td>중동부유럽 일반</td>\n",
       "      <td>2018/02/02</td>\n",
       "      <td>유럽의 암호화폐 시장은 다른 주요 지역 대비 저조한 편임 ➀ 현행 암호화폐가 아직...</td>\n",
       "      <td>중동부유럽</td>\n",
       "    </tr>\n",
       "    <tr>\n",
       "      <th>1618</th>\n",
       "      <td>기후변화와 북극지역 관련 쟁점</td>\n",
       "      <td>인도ㆍ남아시아 일반 / 동남아시아 일반 / 러시아ㆍ유라시아 일반 / 아프리카ㆍ 중동...</td>\n",
       "      <td>2012/10/23</td>\n",
       "      <td>미국국립빙설자료센터NSDC의 9월 16일 발표에 따르면 북극해를 덮고 있는 얼음 ...</td>\n",
       "      <td>중동부유럽</td>\n",
       "    </tr>\n",
       "    <tr>\n",
       "      <th>1619</th>\n",
       "      <td>바이오연료(biofuel)의 상업성과 지속가능성</td>\n",
       "      <td>인도ㆍ남아시아 일반 / 동남아시아 일반 / 러시아ㆍ유라시아 일반 / 아프리카ㆍ 중동...</td>\n",
       "      <td>2012/10/09</td>\n",
       "      <td>각국 정부는 화석연료에 비해 탄소 배출이 적고 안정적인 에너지 확보가 가능한 바이...</td>\n",
       "      <td>중동부유럽</td>\n",
       "    </tr>\n",
       "    <tr>\n",
       "      <th>1620</th>\n",
       "      <td>세계 태양광 산업의 현황과 전망</td>\n",
       "      <td>인도ㆍ남아시아 일반 / 동남아시아 일반 / 러시아ㆍ유라시아 일반 / 아프리카ㆍ 중동...</td>\n",
       "      <td>2012/08/14</td>\n",
       "      <td>7월 24일 독일의 Solar World를 비롯한 유럽 태양광 기업 모임인 Pro...</td>\n",
       "      <td>중동부유럽</td>\n",
       "    </tr>\n",
       "  </tbody>\n",
       "</table>\n",
       "<p>1621 rows × 5 columns</p>\n",
       "</div>"
      ],
      "text/plain": [
       "                                                   제목  \\\n",
       "0                [이슈트렌드] 디폴트 선언했던 잠비아, IMF 구제금융 확보 성공   \n",
       "1     [이슈트렌드] 미국·유럽과 이란 사이 좁혀지지 않는 입장 차이로 난항에 빠진 핵 협상   \n",
       "2                [이슈트렌드] 장기화되는 리비아 정치 위기, 유가 인상 자극 우려   \n",
       "3            [이슈트렌드] 이라크, 반외세 지도자의 은퇴 선언 이후 정치적 혼란 격화   \n",
       "4          [이슈트렌드] 남아프리카공화국, 인플레이션에 따른 경제난과 사회적 위기 심화   \n",
       "...                                               ...   \n",
       "1616                                 밀로쉬 제만 대통령 재선 성공   \n",
       "1617                                 유럽의 암호화폐 정책대응 상황   \n",
       "1618                                 기후변화와 북극지역 관련 쟁점   \n",
       "1619                       바이오연료(biofuel)의 상업성과 지속가능성   \n",
       "1620                                세계 태양광 산업의 현황과 전망   \n",
       "\n",
       "                                                     국가          날짜  \\\n",
       "0                                                   잠비아  2022/09/16   \n",
       "1                                                    이란  2022/09/16   \n",
       "2                                                   리비아  2022/09/07   \n",
       "3                                           아프리카ㆍ 중동 기타  2022/09/07   \n",
       "4                                              남아프리카공화국  2022/09/02   \n",
       "...                                                 ...         ...   \n",
       "1616                                                 체코  2018/02/12   \n",
       "1617                                           중동부유럽 일반  2018/02/02   \n",
       "1618  인도ㆍ남아시아 일반 / 동남아시아 일반 / 러시아ㆍ유라시아 일반 / 아프리카ㆍ 중동...  2012/10/23   \n",
       "1619  인도ㆍ남아시아 일반 / 동남아시아 일반 / 러시아ㆍ유라시아 일반 / 아프리카ㆍ 중동...  2012/10/09   \n",
       "1620  인도ㆍ남아시아 일반 / 동남아시아 일반 / 러시아ㆍ유라시아 일반 / 아프리카ㆍ 중동...  2012/08/14   \n",
       "\n",
       "                                                     본문 continent code  \n",
       "0      국제통화기금MF 잠비아에 구제금융 지원 승인 코로나19 팬데믹 이후 처음으로 디폴...        아프리카/중동  \n",
       "1      미국유럽과 이란 핵 협상 교착 상태에 대해 상대측 비판하며 대립 심화 미국과 유럽...        아프리카/중동  \n",
       "2      리비아 정치 위기 중앙정부와 의회의 첨예한 입장 차이로 장기화 리비아 중앙정부와 ...        아프리카/중동  \n",
       "3      의회 해산 요구하던 이라크 반외세 지도자 정계 은퇴 선언 이라크 시아파 반외세 지...        아프리카/중동  \n",
       "4      남아프리카공화국 최악의 인플레이션 직면 7월 남아공 인플레이션 13년 만에 최고치...        아프리카/중동  \n",
       "...                                                 ...            ...  \n",
       "1616   체코 대선 결선투표 결과 밀로쉬 제만Milo Zeman 대통령이 승리하였음 제만 ...          중동부유럽  \n",
       "1617   유럽의 암호화폐 시장은 다른 주요 지역 대비 저조한 편임 ➀ 현행 암호화폐가 아직...          중동부유럽  \n",
       "1618   미국국립빙설자료센터NSDC의 9월 16일 발표에 따르면 북극해를 덮고 있는 얼음 ...          중동부유럽  \n",
       "1619   각국 정부는 화석연료에 비해 탄소 배출이 적고 안정적인 에너지 확보가 가능한 바이...          중동부유럽  \n",
       "1620   7월 24일 독일의 Solar World를 비롯한 유럽 태양광 기업 모임인 Pro...          중동부유럽  \n",
       "\n",
       "[1621 rows x 5 columns]"
      ]
     },
     "execution_count": 7,
     "metadata": {},
     "output_type": "execute_result"
    }
   ],
   "source": [
    "document1['continent code'] = \"아프리카/중동\"\n",
    "document2['continent code'] = \"러시아/유라시아\"\n",
    "document3['continent code'] = \"중남미\"\n",
    "document4['continent code'] = \"중동부유럽\"\n",
    "\n",
    "doc_list = [document1, document2, document3, document4]\n",
    "document_full = pd.concat(doc_list)\n",
    "document_full = document_full.reset_index(drop=True)\n",
    "document_full"
   ]
  },
  {
   "cell_type": "markdown",
   "id": "adf71512",
   "metadata": {},
   "source": [
    "# nan values 정리끝!"
   ]
  },
  {
   "cell_type": "code",
   "execution_count": 8,
   "id": "c47aae7b",
   "metadata": {
    "scrolled": true
   },
   "outputs": [
    {
     "name": "stdout",
     "output_type": "stream",
     "text": [
      "1621 건 저장완료..\n"
     ]
    }
   ],
   "source": [
    "ARTICLE_LIST = document_full\n",
    "db_save(ARTICLE_LIST, DATABASE, 'full_emerics')"
   ]
  }
 ],
 "metadata": {
  "kernelspec": {
   "display_name": "Python 3 (ipykernel)",
   "language": "python",
   "name": "python3"
  },
  "language_info": {
   "codemirror_mode": {
    "name": "ipython",
    "version": 3
   },
   "file_extension": ".py",
   "mimetype": "text/x-python",
   "name": "python",
   "nbconvert_exporter": "python",
   "pygments_lexer": "ipython3",
   "version": "3.9.12"
  }
 },
 "nbformat": 4,
 "nbformat_minor": 5
}
